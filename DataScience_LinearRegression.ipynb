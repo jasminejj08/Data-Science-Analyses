{
  "nbformat": 4,
  "nbformat_minor": 0,
  "metadata": {
    "colab": {
      "provenance": [],
      "include_colab_link": true
    },
    "kernelspec": {
      "name": "python3",
      "display_name": "Python 3"
    },
    "language_info": {
      "name": "python"
    }
  },
  "cells": [
    {
      "cell_type": "markdown",
      "metadata": {
        "id": "view-in-github",
        "colab_type": "text"
      },
      "source": [
        "<a href=\"https://colab.research.google.com/github/jasminejj08/Data-Science-Analyses/blob/main/DataScience_LinearRegression.ipynb\" target=\"_parent\"><img src=\"https://colab.research.google.com/assets/colab-badge.svg\" alt=\"Open In Colab\"/></a>"
      ]
    },
    {
      "cell_type": "code",
      "execution_count": null,
      "metadata": {
        "id": "1Xyk3w16AI2Q"
      },
      "outputs": [],
      "source": [
        "#Linear Regression"
      ]
    },
    {
      "cell_type": "code",
      "source": [
        "#import the needed libraries\n",
        "import pandas as pd\n",
        "import seaborn as sns\n",
        "import matplotlib.pyplot as plt\n",
        "import numpy as np\n",
        "%matplotlib inline\n",
        "from sklearn.model_selection import train_test_split\n",
        "from sklearn.linear_model import LinearRegression\n",
        "from sklearn import metrics\n",
        "from sklearn import linear_model\n",
        "from statsmodels.api import OLS\n",
        "from sklearn.datasets import load_iris\n",
        "import os.path\n",
        "import os\n",
        "from google.colab import files"
      ],
      "metadata": {
        "id": "m2m3QMYlAXlV"
      },
      "execution_count": null,
      "outputs": []
    },
    {
      "cell_type": "code",
      "source": [
        "#Save the dataset as a dataframe and give it the name: cars_df\n",
        "url = 'https://archive.ics.uci.edu/ml/machine-learning-databases/auto-mpg/auto-mpg.data'\n",
        "cars_df = pd.read_csv(url, delim_whitespace=True, names=[\"mpg\", \"cyl\", \"disp\", \"hp\", \"wt\",\n",
        "                                  \"acc\", \"year\", \"org\", \"name\"], na_values=\"?\")"
      ],
      "metadata": {
        "id": "c9TcjrE9AcVS"
      },
      "execution_count": null,
      "outputs": []
    },
    {
      "cell_type": "code",
      "source": [
        "#checking that the dataframe look good\n",
        "cars_df.head()"
      ],
      "metadata": {
        "colab": {
          "base_uri": "https://localhost:8080/",
          "height": 206
        },
        "id": "5M-iZGqL2PHd",
        "outputId": "97a119fc-0464-4df3-e979-dbd6b8b28e55"
      },
      "execution_count": null,
      "outputs": [
        {
          "output_type": "execute_result",
          "data": {
            "text/plain": [
              "    mpg  cyl   disp     hp      wt   acc  year  org                       name\n",
              "0  18.0    8  307.0  130.0  3504.0  12.0    70    1  chevrolet chevelle malibu\n",
              "1  15.0    8  350.0  165.0  3693.0  11.5    70    1          buick skylark 320\n",
              "2  18.0    8  318.0  150.0  3436.0  11.0    70    1         plymouth satellite\n",
              "3  16.0    8  304.0  150.0  3433.0  12.0    70    1              amc rebel sst\n",
              "4  17.0    8  302.0  140.0  3449.0  10.5    70    1                ford torino"
            ],
            "text/html": [
              "\n",
              "  <div id=\"df-4a262c86-1dd2-4cce-b08e-255601f7a23f\">\n",
              "    <div class=\"colab-df-container\">\n",
              "      <div>\n",
              "<style scoped>\n",
              "    .dataframe tbody tr th:only-of-type {\n",
              "        vertical-align: middle;\n",
              "    }\n",
              "\n",
              "    .dataframe tbody tr th {\n",
              "        vertical-align: top;\n",
              "    }\n",
              "\n",
              "    .dataframe thead th {\n",
              "        text-align: right;\n",
              "    }\n",
              "</style>\n",
              "<table border=\"1\" class=\"dataframe\">\n",
              "  <thead>\n",
              "    <tr style=\"text-align: right;\">\n",
              "      <th></th>\n",
              "      <th>mpg</th>\n",
              "      <th>cyl</th>\n",
              "      <th>disp</th>\n",
              "      <th>hp</th>\n",
              "      <th>wt</th>\n",
              "      <th>acc</th>\n",
              "      <th>year</th>\n",
              "      <th>org</th>\n",
              "      <th>name</th>\n",
              "    </tr>\n",
              "  </thead>\n",
              "  <tbody>\n",
              "    <tr>\n",
              "      <th>0</th>\n",
              "      <td>18.0</td>\n",
              "      <td>8</td>\n",
              "      <td>307.0</td>\n",
              "      <td>130.0</td>\n",
              "      <td>3504.0</td>\n",
              "      <td>12.0</td>\n",
              "      <td>70</td>\n",
              "      <td>1</td>\n",
              "      <td>chevrolet chevelle malibu</td>\n",
              "    </tr>\n",
              "    <tr>\n",
              "      <th>1</th>\n",
              "      <td>15.0</td>\n",
              "      <td>8</td>\n",
              "      <td>350.0</td>\n",
              "      <td>165.0</td>\n",
              "      <td>3693.0</td>\n",
              "      <td>11.5</td>\n",
              "      <td>70</td>\n",
              "      <td>1</td>\n",
              "      <td>buick skylark 320</td>\n",
              "    </tr>\n",
              "    <tr>\n",
              "      <th>2</th>\n",
              "      <td>18.0</td>\n",
              "      <td>8</td>\n",
              "      <td>318.0</td>\n",
              "      <td>150.0</td>\n",
              "      <td>3436.0</td>\n",
              "      <td>11.0</td>\n",
              "      <td>70</td>\n",
              "      <td>1</td>\n",
              "      <td>plymouth satellite</td>\n",
              "    </tr>\n",
              "    <tr>\n",
              "      <th>3</th>\n",
              "      <td>16.0</td>\n",
              "      <td>8</td>\n",
              "      <td>304.0</td>\n",
              "      <td>150.0</td>\n",
              "      <td>3433.0</td>\n",
              "      <td>12.0</td>\n",
              "      <td>70</td>\n",
              "      <td>1</td>\n",
              "      <td>amc rebel sst</td>\n",
              "    </tr>\n",
              "    <tr>\n",
              "      <th>4</th>\n",
              "      <td>17.0</td>\n",
              "      <td>8</td>\n",
              "      <td>302.0</td>\n",
              "      <td>140.0</td>\n",
              "      <td>3449.0</td>\n",
              "      <td>10.5</td>\n",
              "      <td>70</td>\n",
              "      <td>1</td>\n",
              "      <td>ford torino</td>\n",
              "    </tr>\n",
              "  </tbody>\n",
              "</table>\n",
              "</div>\n",
              "      <button class=\"colab-df-convert\" onclick=\"convertToInteractive('df-4a262c86-1dd2-4cce-b08e-255601f7a23f')\"\n",
              "              title=\"Convert this dataframe to an interactive table.\"\n",
              "              style=\"display:none;\">\n",
              "        \n",
              "  <svg xmlns=\"http://www.w3.org/2000/svg\" height=\"24px\"viewBox=\"0 0 24 24\"\n",
              "       width=\"24px\">\n",
              "    <path d=\"M0 0h24v24H0V0z\" fill=\"none\"/>\n",
              "    <path d=\"M18.56 5.44l.94 2.06.94-2.06 2.06-.94-2.06-.94-.94-2.06-.94 2.06-2.06.94zm-11 1L8.5 8.5l.94-2.06 2.06-.94-2.06-.94L8.5 2.5l-.94 2.06-2.06.94zm10 10l.94 2.06.94-2.06 2.06-.94-2.06-.94-.94-2.06-.94 2.06-2.06.94z\"/><path d=\"M17.41 7.96l-1.37-1.37c-.4-.4-.92-.59-1.43-.59-.52 0-1.04.2-1.43.59L10.3 9.45l-7.72 7.72c-.78.78-.78 2.05 0 2.83L4 21.41c.39.39.9.59 1.41.59.51 0 1.02-.2 1.41-.59l7.78-7.78 2.81-2.81c.8-.78.8-2.07 0-2.86zM5.41 20L4 18.59l7.72-7.72 1.47 1.35L5.41 20z\"/>\n",
              "  </svg>\n",
              "      </button>\n",
              "      \n",
              "  <style>\n",
              "    .colab-df-container {\n",
              "      display:flex;\n",
              "      flex-wrap:wrap;\n",
              "      gap: 12px;\n",
              "    }\n",
              "\n",
              "    .colab-df-convert {\n",
              "      background-color: #E8F0FE;\n",
              "      border: none;\n",
              "      border-radius: 50%;\n",
              "      cursor: pointer;\n",
              "      display: none;\n",
              "      fill: #1967D2;\n",
              "      height: 32px;\n",
              "      padding: 0 0 0 0;\n",
              "      width: 32px;\n",
              "    }\n",
              "\n",
              "    .colab-df-convert:hover {\n",
              "      background-color: #E2EBFA;\n",
              "      box-shadow: 0px 1px 2px rgba(60, 64, 67, 0.3), 0px 1px 3px 1px rgba(60, 64, 67, 0.15);\n",
              "      fill: #174EA6;\n",
              "    }\n",
              "\n",
              "    [theme=dark] .colab-df-convert {\n",
              "      background-color: #3B4455;\n",
              "      fill: #D2E3FC;\n",
              "    }\n",
              "\n",
              "    [theme=dark] .colab-df-convert:hover {\n",
              "      background-color: #434B5C;\n",
              "      box-shadow: 0px 1px 3px 1px rgba(0, 0, 0, 0.15);\n",
              "      filter: drop-shadow(0px 1px 2px rgba(0, 0, 0, 0.3));\n",
              "      fill: #FFFFFF;\n",
              "    }\n",
              "  </style>\n",
              "\n",
              "      <script>\n",
              "        const buttonEl =\n",
              "          document.querySelector('#df-4a262c86-1dd2-4cce-b08e-255601f7a23f button.colab-df-convert');\n",
              "        buttonEl.style.display =\n",
              "          google.colab.kernel.accessAllowed ? 'block' : 'none';\n",
              "\n",
              "        async function convertToInteractive(key) {\n",
              "          const element = document.querySelector('#df-4a262c86-1dd2-4cce-b08e-255601f7a23f');\n",
              "          const dataTable =\n",
              "            await google.colab.kernel.invokeFunction('convertToInteractive',\n",
              "                                                     [key], {});\n",
              "          if (!dataTable) return;\n",
              "\n",
              "          const docLinkHtml = 'Like what you see? Visit the ' +\n",
              "            '<a target=\"_blank\" href=https://colab.research.google.com/notebooks/data_table.ipynb>data table notebook</a>'\n",
              "            + ' to learn more about interactive tables.';\n",
              "          element.innerHTML = '';\n",
              "          dataTable['output_type'] = 'display_data';\n",
              "          await google.colab.output.renderOutput(dataTable, element);\n",
              "          const docLink = document.createElement('div');\n",
              "          docLink.innerHTML = docLinkHtml;\n",
              "          element.appendChild(docLink);\n",
              "        }\n",
              "      </script>\n",
              "    </div>\n",
              "  </div>\n",
              "  "
            ]
          },
          "metadata": {},
          "execution_count": 4
        }
      ]
    },
    {
      "cell_type": "code",
      "source": [
        "#Check for NA/NULL values and remove the rows that have NA in any column. Save the result into\n",
        "#dataframe with the name clean_cars_df\n",
        "clean_cars_df = cars_df.dropna()"
      ],
      "metadata": {
        "id": "2FKY8Cg22PNc"
      },
      "execution_count": null,
      "outputs": []
    },
    {
      "cell_type": "code",
      "source": [
        "clean_cars_df.head()"
      ],
      "metadata": {
        "colab": {
          "base_uri": "https://localhost:8080/",
          "height": 206
        },
        "id": "k9IRnSbv5J07",
        "outputId": "0ea86fd8-65b2-4f66-d424-a0b7483b94d0"
      },
      "execution_count": null,
      "outputs": [
        {
          "output_type": "execute_result",
          "data": {
            "text/plain": [
              "    mpg  cyl   disp     hp      wt   acc  year  org                       name\n",
              "0  18.0    8  307.0  130.0  3504.0  12.0    70    1  chevrolet chevelle malibu\n",
              "1  15.0    8  350.0  165.0  3693.0  11.5    70    1          buick skylark 320\n",
              "2  18.0    8  318.0  150.0  3436.0  11.0    70    1         plymouth satellite\n",
              "3  16.0    8  304.0  150.0  3433.0  12.0    70    1              amc rebel sst\n",
              "4  17.0    8  302.0  140.0  3449.0  10.5    70    1                ford torino"
            ],
            "text/html": [
              "\n",
              "  <div id=\"df-48333831-b419-4a90-bfcd-67eb60f77f40\">\n",
              "    <div class=\"colab-df-container\">\n",
              "      <div>\n",
              "<style scoped>\n",
              "    .dataframe tbody tr th:only-of-type {\n",
              "        vertical-align: middle;\n",
              "    }\n",
              "\n",
              "    .dataframe tbody tr th {\n",
              "        vertical-align: top;\n",
              "    }\n",
              "\n",
              "    .dataframe thead th {\n",
              "        text-align: right;\n",
              "    }\n",
              "</style>\n",
              "<table border=\"1\" class=\"dataframe\">\n",
              "  <thead>\n",
              "    <tr style=\"text-align: right;\">\n",
              "      <th></th>\n",
              "      <th>mpg</th>\n",
              "      <th>cyl</th>\n",
              "      <th>disp</th>\n",
              "      <th>hp</th>\n",
              "      <th>wt</th>\n",
              "      <th>acc</th>\n",
              "      <th>year</th>\n",
              "      <th>org</th>\n",
              "      <th>name</th>\n",
              "    </tr>\n",
              "  </thead>\n",
              "  <tbody>\n",
              "    <tr>\n",
              "      <th>0</th>\n",
              "      <td>18.0</td>\n",
              "      <td>8</td>\n",
              "      <td>307.0</td>\n",
              "      <td>130.0</td>\n",
              "      <td>3504.0</td>\n",
              "      <td>12.0</td>\n",
              "      <td>70</td>\n",
              "      <td>1</td>\n",
              "      <td>chevrolet chevelle malibu</td>\n",
              "    </tr>\n",
              "    <tr>\n",
              "      <th>1</th>\n",
              "      <td>15.0</td>\n",
              "      <td>8</td>\n",
              "      <td>350.0</td>\n",
              "      <td>165.0</td>\n",
              "      <td>3693.0</td>\n",
              "      <td>11.5</td>\n",
              "      <td>70</td>\n",
              "      <td>1</td>\n",
              "      <td>buick skylark 320</td>\n",
              "    </tr>\n",
              "    <tr>\n",
              "      <th>2</th>\n",
              "      <td>18.0</td>\n",
              "      <td>8</td>\n",
              "      <td>318.0</td>\n",
              "      <td>150.0</td>\n",
              "      <td>3436.0</td>\n",
              "      <td>11.0</td>\n",
              "      <td>70</td>\n",
              "      <td>1</td>\n",
              "      <td>plymouth satellite</td>\n",
              "    </tr>\n",
              "    <tr>\n",
              "      <th>3</th>\n",
              "      <td>16.0</td>\n",
              "      <td>8</td>\n",
              "      <td>304.0</td>\n",
              "      <td>150.0</td>\n",
              "      <td>3433.0</td>\n",
              "      <td>12.0</td>\n",
              "      <td>70</td>\n",
              "      <td>1</td>\n",
              "      <td>amc rebel sst</td>\n",
              "    </tr>\n",
              "    <tr>\n",
              "      <th>4</th>\n",
              "      <td>17.0</td>\n",
              "      <td>8</td>\n",
              "      <td>302.0</td>\n",
              "      <td>140.0</td>\n",
              "      <td>3449.0</td>\n",
              "      <td>10.5</td>\n",
              "      <td>70</td>\n",
              "      <td>1</td>\n",
              "      <td>ford torino</td>\n",
              "    </tr>\n",
              "  </tbody>\n",
              "</table>\n",
              "</div>\n",
              "      <button class=\"colab-df-convert\" onclick=\"convertToInteractive('df-48333831-b419-4a90-bfcd-67eb60f77f40')\"\n",
              "              title=\"Convert this dataframe to an interactive table.\"\n",
              "              style=\"display:none;\">\n",
              "        \n",
              "  <svg xmlns=\"http://www.w3.org/2000/svg\" height=\"24px\"viewBox=\"0 0 24 24\"\n",
              "       width=\"24px\">\n",
              "    <path d=\"M0 0h24v24H0V0z\" fill=\"none\"/>\n",
              "    <path d=\"M18.56 5.44l.94 2.06.94-2.06 2.06-.94-2.06-.94-.94-2.06-.94 2.06-2.06.94zm-11 1L8.5 8.5l.94-2.06 2.06-.94-2.06-.94L8.5 2.5l-.94 2.06-2.06.94zm10 10l.94 2.06.94-2.06 2.06-.94-2.06-.94-.94-2.06-.94 2.06-2.06.94z\"/><path d=\"M17.41 7.96l-1.37-1.37c-.4-.4-.92-.59-1.43-.59-.52 0-1.04.2-1.43.59L10.3 9.45l-7.72 7.72c-.78.78-.78 2.05 0 2.83L4 21.41c.39.39.9.59 1.41.59.51 0 1.02-.2 1.41-.59l7.78-7.78 2.81-2.81c.8-.78.8-2.07 0-2.86zM5.41 20L4 18.59l7.72-7.72 1.47 1.35L5.41 20z\"/>\n",
              "  </svg>\n",
              "      </button>\n",
              "      \n",
              "  <style>\n",
              "    .colab-df-container {\n",
              "      display:flex;\n",
              "      flex-wrap:wrap;\n",
              "      gap: 12px;\n",
              "    }\n",
              "\n",
              "    .colab-df-convert {\n",
              "      background-color: #E8F0FE;\n",
              "      border: none;\n",
              "      border-radius: 50%;\n",
              "      cursor: pointer;\n",
              "      display: none;\n",
              "      fill: #1967D2;\n",
              "      height: 32px;\n",
              "      padding: 0 0 0 0;\n",
              "      width: 32px;\n",
              "    }\n",
              "\n",
              "    .colab-df-convert:hover {\n",
              "      background-color: #E2EBFA;\n",
              "      box-shadow: 0px 1px 2px rgba(60, 64, 67, 0.3), 0px 1px 3px 1px rgba(60, 64, 67, 0.15);\n",
              "      fill: #174EA6;\n",
              "    }\n",
              "\n",
              "    [theme=dark] .colab-df-convert {\n",
              "      background-color: #3B4455;\n",
              "      fill: #D2E3FC;\n",
              "    }\n",
              "\n",
              "    [theme=dark] .colab-df-convert:hover {\n",
              "      background-color: #434B5C;\n",
              "      box-shadow: 0px 1px 3px 1px rgba(0, 0, 0, 0.15);\n",
              "      filter: drop-shadow(0px 1px 2px rgba(0, 0, 0, 0.3));\n",
              "      fill: #FFFFFF;\n",
              "    }\n",
              "  </style>\n",
              "\n",
              "      <script>\n",
              "        const buttonEl =\n",
              "          document.querySelector('#df-48333831-b419-4a90-bfcd-67eb60f77f40 button.colab-df-convert');\n",
              "        buttonEl.style.display =\n",
              "          google.colab.kernel.accessAllowed ? 'block' : 'none';\n",
              "\n",
              "        async function convertToInteractive(key) {\n",
              "          const element = document.querySelector('#df-48333831-b419-4a90-bfcd-67eb60f77f40');\n",
              "          const dataTable =\n",
              "            await google.colab.kernel.invokeFunction('convertToInteractive',\n",
              "                                                     [key], {});\n",
              "          if (!dataTable) return;\n",
              "\n",
              "          const docLinkHtml = 'Like what you see? Visit the ' +\n",
              "            '<a target=\"_blank\" href=https://colab.research.google.com/notebooks/data_table.ipynb>data table notebook</a>'\n",
              "            + ' to learn more about interactive tables.';\n",
              "          element.innerHTML = '';\n",
              "          dataTable['output_type'] = 'display_data';\n",
              "          await google.colab.output.renderOutput(dataTable, element);\n",
              "          const docLink = document.createElement('div');\n",
              "          docLink.innerHTML = docLinkHtml;\n",
              "          element.appendChild(docLink);\n",
              "        }\n",
              "      </script>\n",
              "    </div>\n",
              "  </div>\n",
              "  "
            ]
          },
          "metadata": {},
          "execution_count": 6
        }
      ]
    },
    {
      "cell_type": "code",
      "source": [
        "#Write Python code to display the boxplot for each independent variable used (disp, hp & wt)\n",
        "#The boxplots should be aligned next to each other and display the graph according to the variable scale.\n",
        "\n",
        "fig, ax = plt.subplots(1, 3, figsize=(12, 6))\n",
        "\n",
        "##first boxplot using the disp as the independent variable\n",
        "##set the axis labels and the titles\n",
        "sns.boxplot(data=clean_cars_df['disp'], ax=ax[0])\n",
        "ax[0].set_xlabel('DISP')\n",
        "ax[0].set_ylabel('Displacement Distribution')\n",
        "ax[0].set_title('Car Displacement')\n",
        "\n",
        "##second boxplot with the hp as the independent variable\n",
        "sns.boxplot(data=clean_cars_df['hp'], ax=ax[1])\n",
        "ax[1].set_xlabel('HP')\n",
        "ax[1].set_ylabel('Horse Power Distribution')\n",
        "ax[1].set_title('Car Horse Power')\n",
        "\n",
        "##third boxplot with the wt as the independent variable\n",
        "sns.boxplot(data=clean_cars_df['wt'], ax=ax[2])\n",
        "ax[2].set_xlabel('WT')\n",
        "ax[2].set_ylabel('Weight Distribution')\n",
        "ax[2].set_title('Car Weight')\n",
        "\n",
        "for subplot in ax:\n",
        "  subplot.set_xticklabels([])\n",
        "\n",
        "##adjust the spacing between the graphs and and display them\n",
        "fig.subplots_adjust(wspace=0.5)\n",
        "plt.show()\n"
      ],
      "metadata": {
        "colab": {
          "base_uri": "https://localhost:8080/",
          "height": 394
        },
        "id": "m_H1dQXC5c1o",
        "outputId": "dcfccaa0-6587-4cb3-aead-d7eaec7e729d"
      },
      "execution_count": null,
      "outputs": [
        {
          "output_type": "display_data",
          "data": {
            "text/plain": [
              "<Figure size 864x432 with 3 Axes>"
            ],
            "image/png": "[encoded data removed]"
          },
          "metadata": {
            "needs_background": "light"
          }
        }
      ]
    },
    {
      "cell_type": "code",
      "source": [
        "#Generate different linear regressions:\n",
        "#Use mpg attribute as the dependent variable\n",
        "\n",
        "#Multi-linear regression with 3 independent variables (disp, hp & wt)\n",
        "X = clean_cars_df[['disp', 'hp', 'wt']] #setting the x-variables (independent variables)\n",
        "y = clean_cars_df['mpg'] #dependent variable\n",
        "\n",
        "#generating the multi-linear regression\n",
        "mulregress = linear_model.LinearRegression()\n",
        "mulregress.fit(X, y)"
      ],
      "metadata": {
        "colab": {
          "base_uri": "https://localhost:8080/"
        },
        "id": "3mjpsLZ4RVNM",
        "outputId": "3140a000-8a0d-4943-9b7b-f51bec0c68a3"
      },
      "execution_count": null,
      "outputs": [
        {
          "output_type": "execute_result",
          "data": {
            "text/plain": [
              "LinearRegression()"
            ]
          },
          "metadata": {},
          "execution_count": 8
        }
      ]
    },
    {
      "cell_type": "code",
      "source": [
        "#multi-linear regression data analysis\n",
        "print(\"FOR MULTI-LINEAR REGRESSION\")\n",
        "print(\"y-intercept: \", mulregress.intercept_)\n",
        "print(\"coefficient: \", mulregress.coef_)\n",
        "print(\"R2 value: \", mulregress.score(X, y))"
      ],
      "metadata": {
        "colab": {
          "base_uri": "https://localhost:8080/"
        },
        "id": "6Jgn9ZWU3ORk",
        "outputId": "98466d3b-de46-45e7-bca5-86dfc48e95c5"
      },
      "execution_count": null,
      "outputs": [
        {
          "output_type": "stream",
          "name": "stdout",
          "text": [
            "FOR MULTI-LINEAR REGRESSION\n",
            "y-intercept:  44.855935695265046\n",
            "coefficient:  [-0.00576882 -0.04167414 -0.00535159]\n",
            "R2 value:  0.7069554693444708\n"
          ]
        }
      ]
    },
    {
      "cell_type": "code",
      "source": [
        "#Simple linear regression for each variable used (disp, hp & wt) against mpg as the dependent\n",
        "#variable\n",
        "#Plot each independent variable against mpg and display the regression line on each graph\n",
        "\n",
        "#Linear Regression for disp vs mpg\n",
        "Xd = clean_cars_df[['disp']] #independent variable is disp\n",
        "\n",
        "dispregress = LinearRegression().fit(Xd, y)\n",
        "disppredict = dispregress.predict(Xd)\n",
        "\n",
        "plt.scatter(Xd, y, color='g', label='Real Values')\n",
        "plt.plot(Xd, disppredict, color='r', label='Predicted')\n",
        "plt.title(\"Regression Model for DISP vs MPG\")\n",
        "plt.xlabel(\"disp\")\n",
        "plt.ylabel(\"mpg\")\n",
        "plt.legend()\n",
        "plt.show()"
      ],
      "metadata": {
        "colab": {
          "base_uri": "https://localhost:8080/",
          "height": 295
        },
        "id": "mjUv9NueX7pZ",
        "outputId": "cb400af9-c2e6-4913-ef30-a26e621e4000"
      },
      "execution_count": null,
      "outputs": [
        {
          "output_type": "display_data",
          "data": {
            "text/plain": [
              "<Figure size 432x288 with 1 Axes>"
            ],
            "image/png": "[encoded data removed]"
          },
          "metadata": {
            "needs_background": "light"
          }
        }
      ]
    },
    {
      "cell_type": "code",
      "source": [
        "#Linear Regression for hp\n",
        "Xh = clean_cars_df[['hp']] #independent variable is hp\n",
        "\n",
        "hpregress = LinearRegression().fit(Xh, y)\n",
        "hppredict = hpregress.predict(Xh)\n",
        "\n",
        "plt.scatter(Xh, y, color='g', label='Real Values')\n",
        "plt.plot(Xh, hppredict, color='b', label='Predicted')\n",
        "plt.title(\"Regression Model for HP vs MPG\")\n",
        "plt.xlabel(\"disp\")\n",
        "plt.ylabel(\"mpg\")\n",
        "plt.legend()\n",
        "plt.show()"
      ],
      "metadata": {
        "colab": {
          "base_uri": "https://localhost:8080/",
          "height": 295
        },
        "id": "cdneyj4PbxiK",
        "outputId": "cb7005ad-4e01-4aa6-e24b-0d747da5d039"
      },
      "execution_count": null,
      "outputs": [
        {
          "output_type": "display_data",
          "data": {
            "text/plain": [
              "<Figure size 432x288 with 1 Axes>"
            ],
            "image/png": "[encoded data removed]"
          },
          "metadata": {
            "needs_background": "light"
          }
        }
      ]
    },
    {
      "cell_type": "code",
      "source": [
        "#Linear Regression for wt\n",
        "Xw = clean_cars_df[['wt']] #independent variable is disp\n",
        "\n",
        "wtregress = LinearRegression().fit(Xw, y)\n",
        "wtpredict = wtregress.predict(Xw)\n",
        "\n",
        "plt.scatter(Xw, y, color='g', label='Real Values')\n",
        "plt.plot(Xw, wtpredict, color='purple', label='Predicted')\n",
        "plt.title(\"Regression Model for WT vs MPG\")\n",
        "plt.xlabel(\"disp\")\n",
        "plt.ylabel(\"mpg\")\n",
        "plt.legend()\n",
        "plt.show()"
      ],
      "metadata": {
        "colab": {
          "base_uri": "https://localhost:8080/",
          "height": 295
        },
        "id": "iuYuSqAnfQro",
        "outputId": "b76caf55-2643-48a3-acbd-b7962a9077f0"
      },
      "execution_count": null,
      "outputs": [
        {
          "output_type": "display_data",
          "data": {
            "text/plain": [
              "<Figure size 432x288 with 1 Axes>"
            ],
            "image/png": "[encoded data removed]"
          },
          "metadata": {
            "needs_background": "light"
          }
        }
      ]
    },
    {
      "cell_type": "code",
      "source": [
        "#Explain, briefly, the results of the models: coefficients, intercepts, outliers, R2 for each model generated.\n",
        "#How significient disp attribute in the multi-linear regression generated?\n",
        "\n",
        "print(\"INTERCEPTS are the places/values on the graph where the line crosses the axis. \\nFor example, the y-intercept is the place where the regression model touches the y-axis\")\n",
        "print(\"And at this point, the x-value would be 0. This applies for the x-axis vice-versa.\")\n",
        "\n",
        "print(\"\\nOUTLIERS are data that stray from the rest of the dataset and stick out on the regression model as being the furthest away from the expected linear model.\")\n",
        "print(\"Outliers can be caused by overlooked factors that could be external or out of control. But they should be looked at because they might provide more\")\n",
        "print(\"information as to why they exist. Outliers can cause the data to be skewed.\")\n",
        "\n",
        "print(\"\\nCOEFFICIENTS, in this case, represent the slope of the regression model. A negative coefficient\")\n",
        "print(\"means the a negative regression pointing downwards (negative slope) and vice versa for a positive coefficient.\")\n",
        "\n",
        "print(\"\\nR2, also known as the coefficient of determination, is the variable that measures how good of a fit\")\n",
        "print(\"the linear regression model is. It is a value that can range from 0 to 1, where the closer it is to 1,\")\n",
        "print(\"the better the regression model is for the dataset. It can also be negative but that entitles a new\")\n",
        "print(\"meaning to the regression model. Overall, it determines how much disparity and variance there is\")\n",
        "print(\"in the dataset and how much of it can be explained by the relationship of the dependent and\")\n",
        "print(\"independent variables.\")"
      ],
      "metadata": {
        "colab": {
          "base_uri": "https://localhost:8080/"
        },
        "id": "ZL_kddVKuXq8",
        "outputId": "3b5f2da1-9458-46ae-bc99-b8f73c61e168"
      },
      "execution_count": null,
      "outputs": [
        {
          "output_type": "stream",
          "name": "stdout",
          "text": [
            "INTERCEPTS are the places/values on the graph where the line crosses the axis. \n",
            "For example, the y-intercept is the place where the regression model touches the y-axis\n",
            "And at this point, the x-value would be 0. This applies for the x-axis vice-versa.\n",
            "\n",
            "OUTLIERS are data that stray from the rest of the dataset and stick out on the regression model as being the furthest away from the expected linear model.\n",
            "Outliers can be caused by overlooked factors that could be external or out of control. But they should be looked at because they might provide more\n",
            "information as to why they exist. Outliers can cause the data to be skewed.\n",
            "\n",
            "COEFFICIENTS, in this case, represent the slope of the regression model. A negative coefficient\n",
            "means the a negative regression pointing downwards (negative slope) and vice versa for a positive coefficient.\n",
            "\n",
            "R2, also known as the coefficient of determination, is the variable that measures how good of a fit\n",
            "the linear regression model is. It is a value that can range from 0 to 1, where the closer it is to 1,\n",
            "the better the regression model is for the dataset. It can also be negative but that entitles a new\n",
            "meaning to the regression model. Overall, it determines how much disparity and variance there is\n",
            "in the dataset and how much of it can be explained by the relationship of the dependent and\n",
            "independent variables.\n"
          ]
        }
      ]
    },
    {
      "cell_type": "code",
      "source": [
        "#data analysis of disp attribute from disp vs mpg linear regression\n",
        "print(\"FOR GRAPH OF: DISP vs MPG\")\n",
        "print(\"y-intercept: \", dispregress.intercept_)\n",
        "print(\"coefficient: \", dispregress.coef_)\n",
        "print(\"R2 value: \", dispregress.score(Xd, y))\n"
      ],
      "metadata": {
        "colab": {
          "base_uri": "https://localhost:8080/"
        },
        "id": "66PHSCDkfwh2",
        "outputId": "c96ebff3-57b6-41eb-9e0f-6edfad5de78b"
      },
      "execution_count": null,
      "outputs": [
        {
          "output_type": "stream",
          "name": "stdout",
          "text": [
            "FOR GRAPH OF: DISP vs MPG\n",
            "y-intercept:  35.12063593840391\n",
            "coefficient:  [-0.06005143]\n",
            "R2 value:  0.6482294003193044\n"
          ]
        }
      ]
    },
    {
      "cell_type": "code",
      "source": [
        "#data analysis of hp attribute from hp vs mpg linear regression\n",
        "print(\"FOR GRAPH OF: HP vs MPG\")\n",
        "print(\"y-intercept: \", hpregress.intercept_)\n",
        "print(\"coefficient: \", hpregress.coef_)\n",
        "print(\"R2 value: \", hpregress.score(Xh, y))\n"
      ],
      "metadata": {
        "colab": {
          "base_uri": "https://localhost:8080/"
        },
        "id": "ljh_6wTqnBaj",
        "outputId": "116b96da-b848-4431-ab6b-f8aa4d9dcd8a"
      },
      "execution_count": null,
      "outputs": [
        {
          "output_type": "stream",
          "name": "stdout",
          "text": [
            "FOR GRAPH OF: HP vs MPG\n",
            "y-intercept:  39.93586102117047\n",
            "coefficient:  [-0.15784473]\n",
            "R2 value:  0.6059482578894348\n"
          ]
        }
      ]
    },
    {
      "cell_type": "code",
      "source": [
        "#data analysis of wt attribute from wt vs mpg linear regression\n",
        "print(\"FOR GRAPH OF: WT vs MPG\")\n",
        "print(\"y-intercept: \", wtregress.intercept_)\n",
        "print(\"coefficient: \", wtregress.coef_)\n",
        "print(\"R2 value: \", wtregress.score(Xw, y))\n"
      ],
      "metadata": {
        "colab": {
          "base_uri": "https://localhost:8080/"
        },
        "id": "EBLfnlJEnCr3",
        "outputId": "73ee117b-b6e2-40f8-8328-7ce087ebb370"
      },
      "execution_count": null,
      "outputs": [
        {
          "output_type": "stream",
          "name": "stdout",
          "text": [
            "FOR GRAPH OF: WT vs MPG\n",
            "y-intercept:  46.21652454901758\n",
            "coefficient:  [-0.00764734]\n",
            "R2 value:  0.6926304331206254\n"
          ]
        }
      ]
    },
    {
      "cell_type": "code",
      "source": [
        "#looking at the data overall\n",
        "print(\"Out of all the regression models, the one with the best fit is the WT vs MPG.\")\n",
        "print(\"This means that the variance of the independent variable, mpg, can be more well explained\")\n",
        "print(\"by the wt data than the other columns.\")\n"
      ],
      "metadata": {
        "colab": {
          "base_uri": "https://localhost:8080/"
        },
        "id": "x0J57-Er2mmL",
        "outputId": "dfa1db66-6861-4fe6-f1b4-8b277c5fbf12"
      },
      "execution_count": null,
      "outputs": [
        {
          "output_type": "stream",
          "name": "stdout",
          "text": [
            "Out of all the regression models, the one with the best fit is the WT vs MPG.\n",
            "This means that the variance of the independent variable, mpg, can be more well explained\n",
            "by the wt data than the other columns.\n"
          ]
        }
      ]
    },
    {
      "cell_type": "code",
      "source": [
        "#The significance of the disp attribute in the multi-linear regression\n",
        "print(\"From the multi-linear regression results before, it can be seen that the disp attribute\")\n",
        "print(\"decreases at a higher rate as the mpg attribute increases because the coefficient of the\")\n",
        "print(\"disp attribute is the most strongly negative out of the others. It implies that the\")\n",
        "print(\"disp attribute decreases by 0.00576882 for ever 1 unit of measurement of mpg.\")"
      ],
      "metadata": {
        "colab": {
          "base_uri": "https://localhost:8080/"
        },
        "id": "mD6rIZfH4QRR",
        "outputId": "842d341a-62df-47d1-b178-8a665d54b9f3"
      },
      "execution_count": null,
      "outputs": [
        {
          "output_type": "stream",
          "name": "stdout",
          "text": [
            "From the multi-linear regression results before, it can be seen that the disp attribute\n",
            "decreases at a higher rate as the mpg attribute increases because the coefficient of the\n",
            "disp attribute is the most strongly negative out of the others. It implies that the\n",
            "disp attribute decreases by 0.00576882 for ever 1 unit of measurement of mpg.\n"
          ]
        }
      ]
    }
  ]
}